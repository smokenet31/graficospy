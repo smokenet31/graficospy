{
 "cells": [
  {
   "cell_type": "code",
   "execution_count": null,
   "id": "cc0d6227",
   "metadata": {},
   "outputs": [],
   "source": [
    "import pandas as pd\n",
    "import csv\n",
    "import plotly.express as px"
   ]
  },
  {
   "cell_type": "code",
   "execution_count": null,
   "id": "a6a226e0",
   "metadata": {},
   "outputs": [],
   "source": [
    "Importo las librerias"
   ]
  },
  {
   "cell_type": "code",
   "execution_count": null,
   "id": "cd308486",
   "metadata": {},
   "outputs": [],
   "source": [
    "comidadb = pd.read_csv('comidas.csv')"
   ]
  },
  {
   "cell_type": "code",
   "execution_count": null,
   "id": "d8785b0e",
   "metadata": {},
   "outputs": [],
   "source": [
    "graphcom = px.bar(comidadb, x=\"Nombre y apellido\",y=\"Comida\", color=\"Momento\", barmode=\"group\")\n",
    "graphcom.show()"
   ]
  },
  {
   "cell_type": "code",
   "execution_count": null,
   "id": "4db4384e",
   "metadata": {},
   "outputs": [],
   "source": [
    "dcomida = comidadb.loc[(comidadb['Comida'] == 'Fideos'),[\"Nombre y apellido\", \"Comida\"]]\n",
    "print(dcomida)"
   ]
  }
 ],
 "metadata": {
  "kernelspec": {
   "display_name": "Python 3.9.7 64-bit",
   "language": "python",
   "name": "python397jvsc74a57bd0aee8b7b246df8f9039afb4144a1f6fd8d2ca17a180786b69acc140d282b71a49"
  },
  "language_info": {
   "codemirror_mode": {
    "name": "ipython",
    "version": 3
   },
   "file_extension": ".py",
   "mimetype": "text/x-python",
   "name": "python",
   "nbconvert_exporter": "python",
   "pygments_lexer": "ipython3",
   "version": "3.9.7"
  }
 },
 "nbformat": 4,
 "nbformat_minor": 5
}
